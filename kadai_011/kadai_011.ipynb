{
 "cells": [
  {
   "cell_type": "code",
   "execution_count": null,
   "metadata": {},
   "outputs": [
    {
     "ename": "",
     "evalue": "",
     "output_type": "error",
     "traceback": [
      "\u001b[1;31mRunning cells with 'Python 3.13.3' requires the ipykernel package.\n",
      "\u001b[1;31mRun the following command to install 'ipykernel' into the Python environment. \n",
      "\u001b[1;31mCommand: '/usr/local/bin/python3 -m pip install ipykernel -U --user --force-reinstall'"
     ]
    }
   ],
   "source": [
    "#!/usr/bin/env python3\n",
    "# -*- coding: utf-8 -*-\n",
    "\n",
    "\"\"\"\n",
    "課題11: 繰り返し構文（for / while）の使用\n",
    "\n",
    "この課題では、for文とwhile文を使用してリストの要素を2回出力します。\n",
    "\"\"\"\n",
    "\n",
    "# リストの定義\n",
    "array = [\"水\",\"金\",\"地\",\"火\",\"木\",\"土\",\"天\",\"海\",\"冥\"]\n",
    "\n",
    "# for文を使用した繰り返し処理\n",
    "print(\"for文を使用した出力:\")\n",
    "for i in range(2):  # 2回繰り返す\n",
    "    for planet in array:\n",
    "        print(planet)\n",
    "\n",
    "print(\"\\nwhile文を使用した出力:\")\n",
    "# while文を使用した繰り返し処理\n",
    "count = 0\n",
    "while count < 2:  # 2回繰り返す\n",
    "    index = 0\n",
    "    while index < len(array):\n",
    "        print(array[index])\n",
    "        index += 1\n",
    "    count += 1 "
   ]
  }
 ],
 "metadata": {
  "kernelspec": {
   "display_name": "Python 3",
   "language": "python",
   "name": "python3"
  },
  "language_info": {
   "name": "python",
   "version": "3.13.3"
  }
 },
 "nbformat": 4,
 "nbformat_minor": 2
}
