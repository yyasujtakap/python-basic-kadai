#!/usr/bin/env python3
# -*- coding: utf-8 -*-

"""
課題15: クラスの使用

この課題では、Humanクラスを作成し、属性とメソッドを使用します。
"""

class Human:
    """
    人間を表すクラス
    
    Attributes:
        name (str): 名前
        age (int): 年齢
    """
    
    def __init__(self, name, age):
        """
        初期化メソッド
        
        Parameters:
            name (str): 名前
            age (int): 年齢
        """
        self.name = name
        self.age = age
    
    def printinfo(self):
        """
        名前と年齢を出力するメソッド
        """
        print(f"名前: {self.name}")
        print(f"年齢: {self.age}歳")

# Humanクラスのインスタンスを作成
human = Human("山田太郎", 25)

# メソッドを呼び出して情報を出力
human.printinfo() 