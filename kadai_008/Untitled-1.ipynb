{
 "cells": [
  {
   "cell_type": "markdown",
   "metadata": {},
   "source": [
    "# Create the Folder Structure\n",
    "Use Python's os module to create the 'python-basic-kadai/kadai_008' folder structure if it doesn't already exist."
   ]
  },
  {
   "cell_type": "code",
   "execution_count": null,
   "metadata": {},
   "outputs": [],
   "source": [
    "import os\n",
    "\n",
    "# Define the folder structure\n",
    "base_folder = \"python-basic-kadai\"\n",
    "sub_folder = \"kadai_008\"\n",
    "folder_path = os.path.join(base_folder, sub_folder)\n",
    "\n",
    "# Create the folder structure if it doesn't exist\n",
    "if not os.path.exists(folder_path):\n",
    "    os.makedirs(folder_path)"
   ]
  },
  {
   "cell_type": "markdown",
   "metadata": {},
   "source": [
    "# Define the Variable\n",
    "Define a positive integer variable `var` to be used for conditional checks."
   ]
  },
  {
   "cell_type": "code",
   "execution_count": null,
   "metadata": {},
   "outputs": [],
   "source": [
    "var = 15  # Define a positive integer variable to be used for conditional checks"
   ]
  },
  {
   "cell_type": "markdown",
   "metadata": {},
   "source": [
    "# Implement Conditional Logic\n",
    "Write an if-elif-else block to check if `var` is divisible by 3, 5, or both, and print 'Fizz', 'Buzz', or 'FizzBuzz' accordingly. If none of these conditions are met, print the value of `var`."
   ]
  },
  {
   "cell_type": "code",
   "execution_count": null,
   "metadata": {},
   "outputs": [],
   "source": [
    "if var % 3 == 0 and var % 5 == 0:\n",
    "    print(\"FizzBuzz\")  # Print 'FizzBuzz' if var is divisible by both 3 and 5\n",
    "elif var % 3 == 0:\n",
    "    print(\"Fizz\")  # Print 'Fizz' if var is divisible by 3\n",
    "elif var % 5 == 0:\n",
    "    print(\"Buzz\")  # Print 'Buzz' if var is divisible by 5\n",
    "else:\n",
    "    print(var)  # Print the value of var if none of the above conditions are met"
   ]
  },
  {
   "cell_type": "markdown",
   "metadata": {},
   "source": [
    "# Test the Program\n",
    "Test the program with different values of `var` to ensure all conditions are handled correctly."
   ]
  },
  {
   "cell_type": "code",
   "execution_count": null,
   "metadata": {},
   "outputs": [],
   "source": [
    "# Test the program with different values of `var` to ensure all conditions are handled correctly\n",
    "\n",
    "# Test case 1: var is divisible by both 3 and 5\n",
    "var = 15\n",
    "if var % 3 == 0 and var % 5 == 0:\n",
    "    print(\"FizzBuzz\")\n",
    "elif var % 3 == 0:\n",
    "    print(\"Fizz\")\n",
    "elif var % 5 == 0:\n",
    "    print(\"Buzz\")\n",
    "else:\n",
    "    print(var)\n",
    "\n",
    "# Test case 2: var is divisible by 3 only\n",
    "var = 9\n",
    "if var % 3 == 0 and var % 5 == 0:\n",
    "    print(\"FizzBuzz\")\n",
    "elif var % 3 == 0:\n",
    "    print(\"Fizz\")\n",
    "elif var % 5 == 0:\n",
    "    print(\"Buzz\")\n",
    "else:\n",
    "    print(var)\n",
    "\n",
    "# Test case 3: var is divisible by 5 only\n",
    "var = 10\n",
    "if var % 3 == 0 and var % 5 == 0:\n",
    "    print(\"FizzBuzz\")\n",
    "elif var % 3 == 0:\n",
    "    print(\"Fizz\")\n",
    "elif var % 5 == 0:\n",
    "    print(\"Buzz\")\n",
    "else:\n",
    "    print(var)\n",
    "\n",
    "# Test case 4: var is not divisible by 3 or 5\n",
    "var = 7\n",
    "if var % 3 == 0 and var % 5 == 0:\n",
    "    print(\"FizzBuzz\")\n",
    "elif var % 3 == 0:\n",
    "    print(\"Fizz\")\n",
    "elif var % 5 == 0:\n",
    "    print(\"Buzz\")\n",
    "else:\n",
    "    print(var)"
   ]
  }
 ],
 "metadata": {
  "language_info": {
   "name": "python"
  }
 },
 "nbformat": 4,
 "nbformat_minor": 2
}
