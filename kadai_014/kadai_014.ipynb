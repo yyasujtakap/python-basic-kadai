{
 "cells": [
  {
   "cell_type": "code",
   "execution_count": null,
   "metadata": {
    "vscode": {
     "languageId": "plaintext"
    }
   },
   "outputs": [],
   "source": [
    "#!/usr/bin/env python3\n",
    "# -*- coding: utf-8 -*-\n",
    "\n",
    "\"\"\"\n",
    "課題14: スコープの理解\n",
    "\n",
    "この課題では、グローバルスコープとローカルスコープの違いを理解します。\n",
    "\"\"\"\n",
    "\n",
    "# グローバル変数の定義\n",
    "price1 = 100\n",
    "price2 = 200\n",
    "tax = 1.1  # グローバル変数として定義\n",
    "\n",
    "def total():\n",
    "    \"\"\"\n",
    "    商品の合計金額を計算する関数\n",
    "    \n",
    "    Returns:\n",
    "        float: 商品の合計金額\n",
    "    \"\"\"\n",
    "    # グローバル変数を使用\n",
    "    return price1 + price2\n",
    "\n",
    "# 計算結果の表示\n",
    "print(f\"商品1の価格: {price1}円\")\n",
    "print(f\"商品2の価格: {price2}円\")\n",
    "print(f\"消費税率: {(tax - 1) * 100}%\")\n",
    "print(f\"税込合計金額: {total() * tax}円\") "
   ]
  }
 ],
 "metadata": {
  "language_info": {
   "name": "python"
  }
 },
 "nbformat": 4,
 "nbformat_minor": 2
}
