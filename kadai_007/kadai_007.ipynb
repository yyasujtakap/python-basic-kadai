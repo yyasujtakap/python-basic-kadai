{
 "cells": [
  {
   "cell_type": "code",
   "execution_count": null,
   "metadata": {},
   "outputs": [
    {
     "ename": "",
     "evalue": "",
     "output_type": "error",
     "traceback": [
      "\u001b[1;31mRunning cells with 'Python 3.13.3' requires the ipykernel package.\n",
      "\u001b[1;31mRun the following command to install 'ipykernel' into the Python environment. \n",
      "\u001b[1;31mCommand: '/usr/local/bin/python3 -m pip install ipykernel -U --user --force-reinstall'"
     ]
    }
   ],
   "source": [
    "#!/usr/bin/env python3\n",
    "# -*- coding: utf-8 -*-\n",
    "\n",
    "\"\"\"\n",
    "課題7: リストとディクショナリの使用\n",
    "\n",
    "この課題では、リストとディクショナリを使用して天気予報のデータを扱います。\n",
    "\"\"\"\n",
    "\n",
    "# リスト（array）の作成\n",
    "array = [\n",
    "    \"月曜日は晴れです\",\n",
    "    \"火曜日は雨です\",\n",
    "    \"水曜日は晴れです\",\n",
    "    \"木曜日は晴れです\",\n",
    "    \"金曜日は曇りです\",\n",
    "    \"土曜日は曇りのち雨です\",\n",
    "    \"日曜日は雷雨です\"\n",
    "]\n",
    "\n",
    "# リストから水曜日の天気予報を取り出す（インデックス2）\n",
    "print(\"リストから水曜日の天気予報:\")\n",
    "print(array[2])\n",
    "\n",
    "# ディクショナリ（dictionary）の作成\n",
    "dictionary = {\n",
    "    \"mon\": \"晴れ\",\n",
    "    \"tue\": \"雨\",\n",
    "    \"wed\": \"晴れ\",\n",
    "    \"thu\": \"晴れ\",\n",
    "    \"fri\": \"曇り\",\n",
    "    \"sat\": \"曇りのち雨\",\n",
    "    \"sun\": \"雷雨\"\n",
    "}\n",
    "\n",
    "# ディクショナリから水曜日の天気予報を取り出す（キー\"wed\"）\n",
    "print(\"\\nディクショナリから水曜日の天気予報:\")\n",
    "print(dictionary[\"wed\"]) "
   ]
  },
  {
   "cell_type": "code",
   "execution_count": null,
   "metadata": {},
   "outputs": [],
   "source": []
  }
 ],
 "metadata": {
  "kernelspec": {
   "display_name": "Python 3",
   "language": "python",
   "name": "python3"
  },
  "language_info": {
   "name": "python",
   "version": "3.13.3"
  }
 },
 "nbformat": 4,
 "nbformat_minor": 2
}
