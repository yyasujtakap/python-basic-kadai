{
  "nbformat": 4,
  "nbformat_minor": 0,
  "metadata": {
    "colab": {
      "provenance": []
    },
    "kernelspec": {
      "name": "python3",
      "display_name": "Python 3"
    },
    "language_info": {
      "name": "python"
    }
  },
  "cells": [
    {
      "cell_type": "code",
      "execution_count": 18,
      "metadata": {
        "id": "4ilJPTd_v0Ne",
        "colab": {
          "base_uri": "https://localhost:8080/"
        },
        "outputId": "7f47f290-343b-4f84-b462-5e0428dae34d"
      },
      "outputs": [
        {
          "output_type": "stream",
          "name": "stdout",
          "text": [
            "75.0㎠\n"
          ]
        }
      ],
      "source": [
        "# 台形の面積を計算\n",
        "top_base = 10\n",
        "bottom_base = 20\n",
        "height = 5\n",
        "\n",
        "# 台形の面積 = (上底 + 下底) × 高さ ÷ 2\n",
        "area = (top_base + bottom_base) * height / 2\n",
        "\n",
        "# 結果を出力（単位：平方センチメートル）\n",
        "print(f\"{area}㎠\")"
      ]
    }
  ]
}