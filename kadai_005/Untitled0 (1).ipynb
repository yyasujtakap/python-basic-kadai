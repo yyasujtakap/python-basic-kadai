{
  "cells": [
    {
      "cell_type": "code",
      "execution_count": 18,
      "metadata": {
        "colab": {
          "base_uri": "https://localhost:8080/"
        },
        "id": "4ilJPTd_v0Ne",
        "outputId": "7f47f290-343b-4f84-b462-5e0428dae34d"
      },
      "outputs": [
        {
          "name": "stdout",
          "output_type": "stream",
          "text": [
            "75.0㎠\n"
          ]
        }
      ],
      "source": [
        "# 台形の面積を計算\n",
        "top_base = 10\n",
        "bottom_base = 20\n",
        "height = 5\n",
        "\n",
        "# 台形の面積 = (上底 + 下底) × 高さ ÷ 2\n",
        "area = (top_base + bottom_base) * height / 2\n",
        "\n",
        "# 結果を出力（単位：平方センチメートル）\n",
        "print(f\"{area}cm²\")"
      ]
    },
    {
      "cell_type": "code",
      "execution_count": null,
      "metadata": {},
      "outputs": [],
      "source": []
    },
    {
      "cell_type": "markdown",
      "metadata": {},
      "source": []
    }
  ],
  "metadata": {
    "colab": {
      "provenance": []
    },
    "kernelspec": {
      "display_name": "Python 3",
      "name": "python3"
    },
    "language_info": {
      "name": "python"
    }
  },
  "nbformat": 4,
  "nbformat_minor": 0
}
