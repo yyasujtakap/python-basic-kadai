#!/usr/bin/env python3
# -*- coding: utf-8 -*-

"""
課題17: 学習したテクニックの組み合わせ

この課題では、リスト、条件分岐、繰り返し処理、関数、変数のスコープ、クラスを組み合わせて使用します。
"""

class Human:
    """
    人間を表すクラス
    
    Attributes:
        name (str): 名前
        age (int): 年齢
    """
    
    def __init__(self, name, age):
        """
        初期化メソッド
        
        Parameters:
            name (str): 名前
            age (int): 年齢
        """
        self.name = name
        self.age = age
    
    def check_adult(self):
        """
        年齢に基づいて大人かどうかを判定するメソッド
        """
        if self.age >= 20:
            print(f"{self.name}は{self.age}歳で大人です")
        else:
            print(f"{self.name}は{self.age}歳で大人ではありません")

# 複数のHumanインスタンスを作成
humans = [
    Human("山田太郎", 25),
    Human("鈴木花子", 18),
    Human("佐藤次郎", 32),
    Human("田中一郎", 15)
]

# リストの要素数分だけcheck_adultメソッドを呼び出す
for human in humans:
    human.check_adult() 